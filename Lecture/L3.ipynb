{
 "cells": [
  {
   "cell_type": "code",
   "execution_count": null,
   "metadata": {},
   "outputs": [],
   "source": [
    "if <expression>:\n",
    "    <suite>\n",
    "elif <expression>:\n",
    "    <suite>\n",
    "else:\n",
    "    <suite>"
   ]
  },
  {
   "cell_type": "markdown",
   "metadata": {},
   "source": [
    "当执行条件语句时，每个子句都按顺序处理：\n",
    "\n",
    "求出头部中的表达式。\n",
    "如果它为真，执行语句组。之后，跳过条件语句中随后的所有子句。\n",
    "如果能到达else子句（仅当所有if和elif表达式值为假时），它的语句组才会被执行。\n",
    "\n",
    "布尔上下文。上面过程的执行提到了“假值”和“真值”。条件块头部语句中的表达式也叫作布尔上下文：它们值的真假对控制流很重要，但在另一方面，它们的值永远不会被赋值或返回。Python 包含了多种假值，包括 0、None和布尔值False。所有其他数值都是真值。在第二章中，我们就会看到每个 Python 中的原始数据类型都是真值或假值。\n",
    "\n",
    "布尔值:Python 有两种布尔值，叫做True和False。布尔值表示了逻辑表达式中的真值。内建的比较运算符，>、<、>=、<=、==、!=，返回这些值。"
   ]
  },
  {
   "cell_type": "code",
   "execution_count": null,
   "metadata": {},
   "outputs": [],
   "source": [
    "'''1.5.6 实践指南：测试\n",
    "函数的测试是验证函数的行为是否符合预期的操作。我们的函数现在已经足够复杂了，我们需要开始测试我们的实现。\n",
    "\n",
    "测试是系统化执行这个验证的机制。测试通常写为另一个函数，这个函数包含一个或多个被测函数的样例调用。返回值之后会和预期结果进行比对。不像大多数通用的函数，测试涉及到挑选特殊的参数值，并使用它来验证调用。测试也可作为文档：它们展示了如何调用函数，以及什么参数值是合理的。\n",
    "\n",
    "要注意我们也将“测试”这个词用于if或while语句的头部中作为一种技术术语。当我们将“测试”这个词用作表达式，或者用作一种验证机制时，它应该在语境中十分明显。\n",
    "\n",
    "**断言。**程序员使用assert语句来验证预期，例如测试函数的输出。assert语句在布尔上下文中只有一个表达式，后面是带引号的一行文本（单引号或双引号都可以，但是要一致）如果表达式求值为假，它就会显示。\n",
    "\n",
    ">>> assert fib(8) == 13, 'The 8th Fibonacci number should be 13'\n",
    "当被断言的表达式求值为真时，断言语句的执行没有任何效果。当它是假时，asset会造成执行中断。\n",
    "\n",
    "为fib编写的test函数测试了几个参数，包含n的极限值：'''\n",
    "\n",
    "def fib_test():\n",
    "    assert fib(2) == 1, 'The 2nd Fibonacci number should be 1'\n",
    "    assert fib(3) == 1, 'The 3nd Fibonacci number should be 1'\n",
    "    assert fib(50) == 7778742049, 'Error at the 50th Fibonacci number'\n",
    "#在文件中而不是直接在解释器中编写 Python 时，测试可以写在同一个文件，或者后缀为_test.py的相邻文件中。\n",
    "\n",
    "#**Doctest。**Python 提供了一个便利的方法，将简单的测试直接写到函数的文档字符串内。文档字符串的第一行应该包含单行的函数描述，后面是一个空行。参数和行为的详细描述可以跟随在后面。此外，文档字符串可以包含调用该函数的简单交互式会话：\n",
    "\n",
    "def sum_naturals(n):\n",
    "        \"\"\"Return the sum of the first n natural numbers\n",
    "\n",
    "        >>> sum_naturals(10)\n",
    "        55\n",
    "        >>> sum_naturals(100)\n",
    "        5050\n",
    "        \"\"\"\n",
    "        total, k = 0, 1\n",
    "        while k <= n:\n",
    "          total, k = total + k, k + 1\n",
    "        return total\n",
    "#之后，可以使用 doctest 模块来验证交互。下面的globals函数返回全局变量的表示，解释器需要它来求解表达式。\n",
    "\n",
    "from doctest import run_docstring_examples\n",
    "run_docstring_examples(sum_naturals, globals())\n",
    "'''在文件中编写 Python 时，可以通过以下面的命令行选项启动 Python 来运行一个文档中的所有 doctest。\n",
    "\n",
    "python3 -m doctest <python_source_file>\n",
    "高效测试的关键是在实现新的函数之后（甚至是之前）立即编写（以及执行）测试。只调用一个函数的测试叫做单元测试。详尽的单元测试是良好程序设计的标志。'''"
   ]
  },
  {
   "cell_type": "code",
   "execution_count": null,
   "metadata": {},
   "outputs": [],
   "source": [
    "from operator import mul\n",
    "def square(x):\n",
    "    return mul(x,x)\n",
    "square(square(3))\n",
    "\n",
    "#我们执行的时候找到了x，x与传进来的参数绑定了，然后找mul，当前环境中也就是square中找不到mul,所以去全局环境中找到了impor 出来的mul"
   ]
  },
  {
   "cell_type": "markdown",
   "metadata": {},
   "source": [
    "🧠 Python 函数调用与变量查找机制\n",
    "这段代码涉及到两次函数调用 (square(3) 和外部的 square(...))，它们各自创建了一个独立的执行环境。\n",
    "\n",
    "1. 初始设置：全局环境 (Global Frame)\n",
    "在任何函数被调用之前，代码首先在 全局环境（Global Frame） 中执行：\n",
    "\n",
    "from operator import mul: 在全局环境中创建了一个名称 mul，它指向导入的乘法操作函数。\n",
    "\n",
    "def square(x): ...: 在全局环境中创建了一个名称 square，它指向定义的 square 函数对象。\n",
    "\n",
    "2. 第一次调用：内部 square(3)\n",
    "执行 square(3) 时，Python 创建了一个新的局部执行环境（Frame），我们称之为 Frame 1：\n",
    "\n",
    "绑定参数： 解释器将传入的参数值 3 绑定到 Frame 1 中的局部变量 x 上。\n",
    "\n",
    "执行函数体： Python 开始执行 return mul(x, x)。\n",
    "\n",
    "3. 变量查找发生\n",
    "这是您总结的关键部分：\n",
    "\n",
    "查找 x： 解释器首先在 Frame 1 (局部环境) 中查找 x。成功找到，它的值是 3。\n",
    "\n",
    "查找 mul： 接着，解释器在 Frame 1 (局部环境) 中查找 mul。\n",
    "\n",
    "结果： 失败，因为 square 函数内部没有定义 mul 变量。\n",
    "\n",
    "查找全局环境： 根据 Python 的作用域规则（LEGB 原则），查找失败后，解释器会向上进入 Global Frame (全局环境) 中查找 mul。\n",
    "\n",
    "结果： 成功找到，它就是从 operator 模块导入的乘法函数。\n",
    "\n",
    "4. 运算与返回\n",
    "mul(3, 3) 执行，返回结果 9。\n",
    "\n",
    "Frame 1 销毁，9 作为第一次调用的结果返回。\n",
    "\n",
    "5. 第二次调用：外部 square(9)\n",
    "执行 square(9) 时，Python 创建了第二个新的局部执行环境，Frame 2：\n",
    "\n",
    "绑定参数： 传入的值 9 绑定到 Frame 2 中的局部变量 x。\n",
    "\n",
    "执行函数体： return mul(x, x) 再次触发与步骤 3 相同的查找过程。\n",
    "\n",
    "结果： 找到全局的 mul，计算 mul(9, 9)，最终返回 81。"
   ]
  },
  {
   "cell_type": "code",
   "execution_count": 1,
   "metadata": {},
   "outputs": [
    {
     "data": {
      "text/plain": [
       "201.3"
      ]
     },
     "execution_count": 1,
     "metadata": {},
     "output_type": "execute_result"
    }
   ],
   "source": [
    "2013 / 10"
   ]
  },
  {
   "cell_type": "code",
   "execution_count": 2,
   "metadata": {},
   "outputs": [
    {
     "data": {
      "text/plain": [
       "201"
      ]
     },
     "execution_count": 2,
     "metadata": {},
     "output_type": "execute_result"
    }
   ],
   "source": [
    "2013 // 10 #整除"
   ]
  },
  {
   "cell_type": "code",
   "execution_count": 3,
   "metadata": {},
   "outputs": [],
   "source": [
    "from operator import truediv,floordiv\n"
   ]
  },
  {
   "cell_type": "code",
   "execution_count": 4,
   "metadata": {},
   "outputs": [
    {
     "data": {
      "text/plain": [
       "201.3"
      ]
     },
     "execution_count": 4,
     "metadata": {},
     "output_type": "execute_result"
    }
   ],
   "source": [
    "truediv(2013,10)"
   ]
  },
  {
   "cell_type": "code",
   "execution_count": 5,
   "metadata": {},
   "outputs": [
    {
     "data": {
      "text/plain": [
       "201"
      ]
     },
     "execution_count": 5,
     "metadata": {},
     "output_type": "execute_result"
    }
   ],
   "source": [
    "floordiv(2013,10)"
   ]
  },
  {
   "cell_type": "code",
   "execution_count": 6,
   "metadata": {},
   "outputs": [
    {
     "data": {
      "text/plain": [
       "3"
      ]
     },
     "execution_count": 6,
     "metadata": {},
     "output_type": "execute_result"
    }
   ],
   "source": [
    "2013 % 10"
   ]
  },
  {
   "cell_type": "code",
   "execution_count": 7,
   "metadata": {},
   "outputs": [],
   "source": [
    "def divide_excat(n,d):\n",
    "    return n // d, n % d"
   ]
  },
  {
   "cell_type": "code",
   "execution_count": 8,
   "metadata": {},
   "outputs": [],
   "source": [
    "quotient,remainder = divide_excat(2013,10)"
   ]
  },
  {
   "cell_type": "code",
   "execution_count": 9,
   "metadata": {},
   "outputs": [
    {
     "data": {
      "text/plain": [
       "201"
      ]
     },
     "execution_count": 9,
     "metadata": {},
     "output_type": "execute_result"
    }
   ],
   "source": [
    "quotient"
   ]
  },
  {
   "cell_type": "code",
   "execution_count": 10,
   "metadata": {},
   "outputs": [
    {
     "data": {
      "text/plain": [
       "3"
      ]
     },
     "execution_count": 10,
     "metadata": {},
     "output_type": "execute_result"
    }
   ],
   "source": [
    "remainder"
   ]
  },
  {
   "cell_type": "code",
   "execution_count": null,
   "metadata": {},
   "outputs": [],
   "source": [
    "#python 3 -i 文件名  交互式执行python文件"
   ]
  },
  {
   "cell_type": "code",
   "execution_count": null,
   "metadata": {},
   "outputs": [],
   "source": [
    "def absolute_value(x):\n",
    "    if x < 0:\n",
    "        return -x\n",
    "    elif x == 0:\n",
    "        return 0\n",
    "    else:\n",
    "        return x"
   ]
  }
 ],
 "metadata": {
  "kernelspec": {
   "display_name": "Python 3.13.5 ('base')",
   "language": "python",
   "name": "python3"
  },
  "language_info": {
   "codemirror_mode": {
    "name": "ipython",
    "version": 3
   },
   "file_extension": ".py",
   "mimetype": "text/x-python",
   "name": "python",
   "nbconvert_exporter": "python",
   "pygments_lexer": "ipython3",
   "version": "3.13.5"
  },
  "orig_nbformat": 4,
  "vscode": {
   "interpreter": {
    "hash": "bb3ab1c869250a006548da3f3948134c613d99ece87200a41ef05fe751948255"
   }
  }
 },
 "nbformat": 4,
 "nbformat_minor": 2
}
