{
 "cells": [
  {
   "cell_type": "markdown",
   "metadata": {},
   "source": [
    "函数\n",
    "纯函数：具有一些输入（参数）以及返回一些输出（调用结果）的函数。可以描述接受输入并产生输出的小型机器\n",
    "非纯函数：除了返回一个值之外，调用非纯函数会产生副作用，这会改变解释器或计算机的一些状态。一个普遍的副作用就是在返回值之外生成额外的输出，例如使用print函数：\n",
    "\n",
    ">>> print(-2)\n",
    "-2\n",
    ">>> print(1, 2, 3)\n",
    "1 2 3\n",
    "虽然这些例子中的print和abs看起来很像，但它们本质上以不同方式工作。print的返回值永远是None，它是一个 Python 特殊值，表示没有任何东西。Python 交互式解释器并不会自动打印None值。这里，print自己打印了输出，作为调用中的副作用。"
   ]
  },
  {
   "cell_type": "code",
   "execution_count": null,
   "metadata": {},
   "outputs": [],
   "source": []
  },
  {
   "cell_type": "markdown",
   "metadata": {},
   "source": [
    "签名：函数的可接受参数的描述叫做函数的签名"
   ]
  },
  {
   "cell_type": "markdown",
   "metadata": {},
   "source": [
    ">>> def square(x):\n",
    "        return mul(x, x)\n",
    "这定义了一个新的函数，并赋予了名称square。这个用户定义的函数并不内建于解释器。它表示将一个数乘上自己的复合操作。定义中的x叫做形式参数，它为被乘的东西提供一个名称。这个定义创建了用户定义的函数，并且将它关联到名称square上。\n",
    "\n",
    "函数定义包含def语句，它标明了<name>（名称）和一列带有名字的<formal parameters>（形式参数）。之后，return（返回）语句叫做函数体，指定了函数的<return expression>（返回表达式），它是函数无论什么时候调用都需要求值的表达式。\n",
    "\n",
    "def <name>(<formal parameters>):\n",
    "    return <return expression>\n",
    "第二行必须缩进！按照惯例我们应该缩进四个空格，而不是一个Tab，返回表达式并不是立即求值，它储存为新定义函数的一部分，并且只在函数最终调用时会被求出。（很快我们就会看到缩进区域可以跨越多行。）"
   ]
  },
  {
   "cell_type": "markdown",
   "metadata": {},
   "source": [
    "文档字符串\n",
    "函数定义通常包含描述这个函数的文档，叫做文档字符串，它必须在函数体中缩进。文档字符串通常使用三个引号。第一行描述函数的任务。随后的一些行描述参数，并且澄清函数的行为："
   ]
  },
  {
   "cell_type": "code",
   "execution_count": 6,
   "metadata": {},
   "outputs": [],
   "source": [
    "def pressure(v, t, n):\n",
    "        \"\"\"Compute the pressure in pascals of an ideal gas.\n",
    "\n",
    "        Applies the ideal gas law: http://en.wikipedia.org/wiki/Ideal_gas_law\n",
    "\n",
    "        v -- volume of gas, in cubic meters\n",
    "        t -- absolute temperature in degrees kelvin\n",
    "        n -- particles of gas\n",
    "        \"\"\"\n",
    "        k = 1.38e-23  # Boltzmann's constant\n",
    "        return n * k * t / v"
   ]
  },
  {
   "cell_type": "code",
   "execution_count": 2,
   "metadata": {},
   "outputs": [
    {
     "name": "stdout",
     "output_type": "stream",
     "text": [
      "Help on function pressure in module __main__:\n",
      "\n",
      "pressure(v, t, n)\n",
      "    Compute the pressure in pascals of an ideal gas.\n",
      "\n",
      "    Applies the ideal gas law: http://en.wikipedia.org/wiki/Ideal_gas_law\n",
      "\n",
      "    v -- volume of gas, in cubic meters\n",
      "    t -- absolute temperature in degrees kelvin\n",
      "    n -- particles of gas\n",
      "\n"
     ]
    }
   ],
   "source": [
    "help(pressure)"
   ]
  },
  {
   "cell_type": "markdown",
   "metadata": {},
   "source": [
    "参数默认值\n",
    "定义普通函数的结果之一就是额外参数的引入。具有许多参数的函数调用起来非常麻烦，也难以阅读。\n",
    "\n",
    "在 Python 中，我们可以为函数的参数提供默认值。调用这个函数时，带有默认值的参数是可选的。如果它们没有提供，默认值就会绑定到形式参数的名称上。例如，如果某个应用通常用来计算一摩尔粒子的压强，这个值就可以设为默认："
   ]
  },
  {
   "cell_type": "code",
   "execution_count": 2,
   "metadata": {},
   "outputs": [],
   "source": [
    "k_b=1.38e-23 # Boltzmann's constant\n",
    "def pressure(v, t, n=6.022e23):\n",
    "    \"\"\"Compute the pressure in pascals of an ideal gas.\n",
    "    \n",
    "    v -- volume of gas, in cubic meters\n",
    "    t -- absolute temperature in degrees kelvin\n",
    "    n -- particles of gas (default: one mole)\n",
    "    \n",
    "    \"\"\"\n",
    "    \n",
    "    return n * k_b * t / v\n"
   ]
  },
  {
   "cell_type": "code",
   "execution_count": 3,
   "metadata": {},
   "outputs": [
    {
     "data": {
      "text/plain": [
       "2269.974834"
      ]
     },
     "execution_count": 3,
     "metadata": {},
     "output_type": "execute_result"
    }
   ],
   "source": [
    "pressure(1, 273.15)"
   ]
  },
  {
   "cell_type": "code",
   "execution_count": 4,
   "metadata": {},
   "outputs": [
    {
     "ename": "NameError",
     "evalue": "name 'pi' is not defined",
     "output_type": "error",
     "traceback": [
      "\u001b[1;31m---------------------------------------------------------------------------\u001b[0m",
      "\u001b[1;31mNameError\u001b[0m                                 Traceback (most recent call last)",
      "Cell \u001b[1;32mIn[4], line 1\u001b[0m\n\u001b[1;32m----> 1\u001b[0m pi\n",
      "\u001b[1;31mNameError\u001b[0m: name 'pi' is not defined"
     ]
    }
   ],
   "source": [
    "pi"
   ]
  },
  {
   "cell_type": "code",
   "execution_count": 5,
   "metadata": {},
   "outputs": [],
   "source": [
    "from math import pi"
   ]
  },
  {
   "cell_type": "code",
   "execution_count": 6,
   "metadata": {},
   "outputs": [
    {
     "data": {
      "text/plain": [
       "3.141592653589793"
      ]
     },
     "execution_count": 6,
     "metadata": {},
     "output_type": "execute_result"
    }
   ],
   "source": [
    "pi"
   ]
  },
  {
   "cell_type": "code",
   "execution_count": 7,
   "metadata": {},
   "outputs": [],
   "source": [
    "from math import sin"
   ]
  },
  {
   "cell_type": "code",
   "execution_count": 8,
   "metadata": {},
   "outputs": [
    {
     "data": {
      "text/plain": [
       "<function math.sin(x, /)>"
      ]
     },
     "execution_count": 8,
     "metadata": {},
     "output_type": "execute_result"
    }
   ],
   "source": [
    "sin"
   ]
  },
  {
   "cell_type": "code",
   "execution_count": 10,
   "metadata": {},
   "outputs": [],
   "source": [
    "radius = 10"
   ]
  },
  {
   "cell_type": "code",
   "execution_count": 11,
   "metadata": {},
   "outputs": [],
   "source": [
    "#一条语句中可以绑定多个值\n",
    "area,circ = pi * radius * radius,2 * pi * radius"
   ]
  },
  {
   "cell_type": "code",
   "execution_count": 12,
   "metadata": {},
   "outputs": [
    {
     "data": {
      "text/plain": [
       "314.1592653589793"
      ]
     },
     "execution_count": 12,
     "metadata": {},
     "output_type": "execute_result"
    }
   ],
   "source": [
    "area"
   ]
  },
  {
   "cell_type": "code",
   "execution_count": null,
   "metadata": {},
   "outputs": [],
   "source": [
    "radius = 20"
   ]
  },
  {
   "cell_type": "code",
   "execution_count": 13,
   "metadata": {},
   "outputs": [
    {
     "data": {
      "text/plain": [
       "314.1592653589793"
      ]
     },
     "execution_count": 13,
     "metadata": {},
     "output_type": "execute_result"
    }
   ],
   "source": [
    "#赋值并不同步，一次性的，上面修改了radius的值，可是area没有变化，area并不记得这个值是由半径来定义的，只记住了pi * radius * radius的值\n",
    "area"
   ]
  },
  {
   "cell_type": "code",
   "execution_count": 14,
   "metadata": {},
   "outputs": [],
   "source": [
    "f = max"
   ]
  },
  {
   "cell_type": "code",
   "execution_count": 15,
   "metadata": {},
   "outputs": [
    {
     "data": {
      "text/plain": [
       "<function max>"
      ]
     },
     "execution_count": 15,
     "metadata": {},
     "output_type": "execute_result"
    }
   ],
   "source": [
    "f"
   ]
  },
  {
   "cell_type": "code",
   "execution_count": 16,
   "metadata": {},
   "outputs": [
    {
     "data": {
      "text/plain": [
       "3"
      ]
     },
     "execution_count": 16,
     "metadata": {},
     "output_type": "execute_result"
    }
   ],
   "source": [
    "f(1,2,3)"
   ]
  },
  {
   "cell_type": "code",
   "execution_count": 17,
   "metadata": {},
   "outputs": [],
   "source": [
    "max = 7"
   ]
  },
  {
   "cell_type": "code",
   "execution_count": 18,
   "metadata": {},
   "outputs": [
    {
     "data": {
      "text/plain": [
       "3"
      ]
     },
     "execution_count": 18,
     "metadata": {},
     "output_type": "execute_result"
    }
   ],
   "source": [
    "f(1,2,3)"
   ]
  },
  {
   "cell_type": "code",
   "execution_count": 19,
   "metadata": {},
   "outputs": [
    {
     "data": {
      "text/plain": [
       "7"
      ]
     },
     "execution_count": 19,
     "metadata": {},
     "output_type": "execute_result"
    }
   ],
   "source": [
    "f(1,2,max)"
   ]
  },
  {
   "cell_type": "code",
   "execution_count": 20,
   "metadata": {},
   "outputs": [
    {
     "data": {
      "text/plain": [
       "7"
      ]
     },
     "execution_count": 20,
     "metadata": {},
     "output_type": "execute_result"
    }
   ],
   "source": [
    "max"
   ]
  },
  {
   "cell_type": "code",
   "execution_count": 21,
   "metadata": {},
   "outputs": [],
   "source": [
    "max = f"
   ]
  },
  {
   "cell_type": "code",
   "execution_count": 22,
   "metadata": {},
   "outputs": [
    {
     "data": {
      "text/plain": [
       "<function max>"
      ]
     },
     "execution_count": 22,
     "metadata": {},
     "output_type": "execute_result"
    }
   ],
   "source": [
    "max"
   ]
  },
  {
   "cell_type": "code",
   "execution_count": null,
   "metadata": {},
   "outputs": [],
   "source": [
    "from operator import add,mul"
   ]
  },
  {
   "cell_type": "code",
   "execution_count": 23,
   "metadata": {},
   "outputs": [],
   "source": [
    "def square(x):\n",
    "    return mul(x,x)"
   ]
  },
  {
   "cell_type": "code",
   "execution_count": 24,
   "metadata": {},
   "outputs": [
    {
     "data": {
      "text/plain": [
       "<function __main__.square(x)>"
      ]
     },
     "execution_count": 24,
     "metadata": {},
     "output_type": "execute_result"
    }
   ],
   "source": [
    "square"
   ]
  },
  {
   "cell_type": "code",
   "execution_count": 25,
   "metadata": {},
   "outputs": [],
   "source": [
    "def area():\n",
    "    return pi * radius * radius"
   ]
  },
  {
   "cell_type": "code",
   "execution_count": 26,
   "metadata": {},
   "outputs": [
    {
     "data": {
      "text/plain": [
       "<function __main__.area()>"
      ]
     },
     "execution_count": 26,
     "metadata": {},
     "output_type": "execute_result"
    }
   ],
   "source": [
    "area"
   ]
  },
  {
   "cell_type": "code",
   "execution_count": 27,
   "metadata": {},
   "outputs": [
    {
     "data": {
      "text/plain": [
       "314.1592653589793"
      ]
     },
     "execution_count": 27,
     "metadata": {},
     "output_type": "execute_result"
    }
   ],
   "source": [
    "area()"
   ]
  },
  {
   "cell_type": "markdown",
   "metadata": {},
   "source": [
    "函数和name的区别就是函数每次调用都会重新评估"
   ]
  },
  {
   "cell_type": "code",
   "execution_count": null,
   "metadata": {},
   "outputs": [],
   "source": []
  },
  {
   "cell_type": "markdown",
   "metadata": {},
   "source": [
    "## 💡 函数调用与执行过程\n",
    "\n",
    "<small>函数调用或应用（Applying）一个函数，是指 Python（或任何支持函数的语言）执行函数主体代码的整个流程。这个过程可以被清晰地分为以下三个主要步骤：</small>\n",
    "\n",
    "### 1. 建立新的执行环境 (Frame)\n",
    "\n",
    "| 步骤 | 描述 | 关键概念 |\n",
    "| :---: | :--- | :--- |\n",
    "| <small>**1.**</small> | <small>**添加一个局部 Frame，形成一个新的环境。**</small> | <small>**Frame（帧）：** 每次调用函数，都会在内存中创建一个新的、独立的局部命名空间（Frame）。这个环境与外部环境（如全局环境或其他函数环境）隔离。</small> |\n",
    "\n",
    "### 2. 参数绑定与初始化\n",
    "\n",
    "| 步骤 | 描述 | 关键概念 |\n",
    "| :---: | :--- | :--- |\n",
    "| <small>**2.**</small> | <small>**在该 Frame 中，把函数的 形式参数 绑定到其 参数 （即传递的值）。**</small> | <small>**绑定：** 将调用函数时传入的实际值（参数/Arguments）赋值给函数定义时声明的变量名（形式参数/Parameters）。这些绑定仅在这个新的局部 Frame 中有效。</small> |\n",
    "\n",
    "### 3. 执行函数主体代码\n",
    "\n",
    "| 步骤 | 描述 | 关键概念 |\n",
    "| :---: | :--- | :--- |\n",
    "| <small>**3.**</small> | <small>**在这个新环境中执行函数的主体。**</small> | <small>**执行：** 解释器开始执行函数定义内部的代码逻辑。函数内的所有变量和操作都使用步骤 2 中建立的局部 Frame。当遇到 `return` 语句或代码块结束时，函数执行完毕，该 Frame 被销毁。</small> |"
   ]
  },
  {
   "cell_type": "code",
   "execution_count": 28,
   "metadata": {},
   "outputs": [],
   "source": [
    "from operator import mul\n",
    "def square(square):\n",
    "    return mul(square,square)"
   ]
  },
  {
   "cell_type": "code",
   "execution_count": 29,
   "metadata": {},
   "outputs": [
    {
     "data": {
      "text/plain": [
       "4"
      ]
     },
     "execution_count": 29,
     "metadata": {},
     "output_type": "execute_result"
    }
   ],
   "source": [
    "square(-2)"
   ]
  },
  {
   "cell_type": "markdown",
   "metadata": {},
   "source": [
    "当执行square(-2)时，进入了square的frame，所以这里面的square表示-2，而不是在全局frmae里面找square"
   ]
  },
  {
   "cell_type": "markdown",
   "metadata": {},
   "source": [
    "![本地文件](%E6%A1%86%E6%9E%B6%E5%9B%BE.png)"
   ]
  },
  {
   "cell_type": "markdown",
   "metadata": {},
   "source": [
    "![本地文件](框架图解释.png)"
   ]
  },
  {
   "cell_type": "markdown",
   "metadata": {},
   "source": [
    "在这个局部 Frame 中，变量 square 已经被参数绑定为 -2。\n",
    "\n",
    "因此，当执行 mul(square, square) 时，Python 找到了局部 Frame 中的值 -2，它不会继续去查找全局 Frame 中那个绑定到函数本身的 square（函数对象）。\n",
    "\n",
    "总结： 局部变量（square = -2）成功地**遮盖（Shadow）**了全局变量（square = <func square>）。在函数体内部，您只能访问到 -2 这个值。\n",
    "\n",
    "您的结论是完全准确的：一旦进入局部 Frame，该 Frame 内的变量定义（包括参数）总是具有最高优先级。"
   ]
  },
  {
   "cell_type": "markdown",
   "metadata": {},
   "source": [
    "💡 Python 赋值语句的评估规则\n",
    "Python 处理任何包含等号（=）的赋值语句时，都遵循一个严格的两阶段过程，这确保了多重赋值和并行赋值的行为是可预测的：\n",
    "\n",
    "1. 评估等号右侧（RHS Evaluation）\n",
    "规则： 优先且完整地计算等号右侧（RHS）的所有表达式。\n",
    "\n",
    "过程： 解释器会从左到右，使用当前时刻所有变量的值，计算出右侧所有表达式的最终结果。这些结果会被临时存储在一个不可见的“值元组”中。\n",
    "\n",
    "核心： 赋值操作尚未发生，右侧的计算结果独立于左侧的任何名称，不依赖于本次赋值对变量的潜在改变。\n",
    "\n",
    "2. 绑定等号左侧（LHS Binding）\n",
    "规则： 将第一步得到的结果值，依次绑定（Assign）到等号左侧（LHS）的名称上。\n",
    "\n",
    "过程： 赋值是从左到右进行的。左侧的第一个名称绑定到结果元组中的第一个值，第二个名称绑定到第二个值，依此类推。\n",
    "\n",
    "核心： 变量的实际值直到这个阶段才被更新。这是 Python 中保证并行赋值（如 a, b = b, a）正确性的基础。\n",
    "\n",
    "总结： Python 总是“先计算，后赋值”。右侧所有的值都“锁定”后，才会开始对左侧的变量名进行更新。"
   ]
  }
 ],
 "metadata": {
  "kernelspec": {
   "display_name": "Python 3.13.5 ('base')",
   "language": "python",
   "name": "python3"
  },
  "language_info": {
   "codemirror_mode": {
    "name": "ipython",
    "version": 3
   },
   "file_extension": ".py",
   "mimetype": "text/x-python",
   "name": "python",
   "nbconvert_exporter": "python",
   "pygments_lexer": "ipython3",
   "version": "3.13.5"
  },
  "orig_nbformat": 4,
  "vscode": {
   "interpreter": {
    "hash": "bb3ab1c869250a006548da3f3948134c613d99ece87200a41ef05fe751948255"
   }
  }
 },
 "nbformat": 4,
 "nbformat_minor": 2
}
